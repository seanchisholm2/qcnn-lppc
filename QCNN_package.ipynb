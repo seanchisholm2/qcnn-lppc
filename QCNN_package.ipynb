{
 "cells": [
  {
   "cell_type": "markdown",
   "metadata": {},
   "source": [
    "# <span style=\"font-family: 'Computer Modern'; font-size: 42pt; font-weight: bold;\">Quantum Convolutional Neural Network (QCNN): *Laboratory of Particle Physics and Cosmology (LPPC)*</span>"
   ]
  },
  {
   "cell_type": "code",
   "execution_count": 1,
   "metadata": {},
   "outputs": [],
   "source": [
    "### ***** IMPORTS / DEPENDENCIES *****:\n",
    "\n",
    "## PLOTTING:\n",
    "import matplotlib as mpl # (NOT ACCESSED)\n",
    "import matplotlib.pyplot as plt\n",
    "\n",
    "## PENNYLANE:\n",
    "import pennylane as qml\n",
    "from pennylane import numpy as np\n",
    "\n",
    "## DATA:\n",
    "import numpy as np\n",
    "import seaborn as sns\n",
    "\n",
    "## JAX:\n",
    "import jax;\n",
    "## JAX CONFIGURATIONS:\n",
    "jax.config.update('jax_platform_name', 'cpu')\n",
    "jax.config.update(\"jax_enable_x64\", True)\n",
    "import jax.numpy as jnp\n",
    "# import jax.experimental.sparse as jsp # (NOT ACCESSED)\n",
    "# import jax.scipy.linalg as jsl  # (NOT ACCESSED)\n",
    "\n",
    "## OTHER:\n",
    "sns.set()\n",
    "seed = 0\n",
    "rng = np.random.default_rng(seed=seed)\n",
    "# from glob import glob"
   ]
  },
  {
   "cell_type": "code",
   "execution_count": 2,
   "metadata": {},
   "outputs": [],
   "source": [
    "### ***** PACKAGE IMPORTS (IN PROGRESS) *****:\n",
    "# ****************************************************************************************\n",
    "## *1* MNIST DATA LOADING CLASS:\n",
    "# from lppc_qcnn.load_qc_data import LoadDataQC # LoadDataQC() <--- STATIC METHOD\n",
    "\n",
    "## *2* QUANTUM CIRCUIT AND LAYERS CLASS:\n",
    "# from lppc_qcnn.circuit_layers import LayersQC # LayersQC() <--- INSTANCE METHOD (SELF)\n",
    "# -> Define Instance of LayersQC:\n",
    "# layers_obj = LayersQC()\n",
    "\n",
    "## *3* TRAIN QCNN / RESULTS CLASS:\n",
    "# from lppc_qcnn.circuit_layers import TrainQC # TrainQC() <--- INSTANCE METHOD (SELF)\n",
    "# -> Define Instance of TrainQC:\n",
    "# layers_obj = TrainQC()\n",
    "\n",
    "# TO-DO\n",
    "# ****************************************************************************************"
   ]
  },
  {
   "cell_type": "markdown",
   "metadata": {},
   "source": [
    "<span style=\"font-family: 'Computer Modern'; font-weight: bold; font-size: 24pt;\">LOADING MNIST DATASET</span>"
   ]
  },
  {
   "cell_type": "code",
   "execution_count": 3,
   "metadata": {},
   "outputs": [],
   "source": [
    "# ********************************************\n",
    "#           INITIAL PARAMETER SETUP\n",
    "# ********************************************\n",
    "\n",
    "## MNIST DATA LOADING CLASS:\n",
    "from lppc_qcnn.load_qc_data import LoadDataQC # <--- STATIC METHOD\n",
    "\n",
    "## DEFINE VARIABLES:\n",
    "n_qubits = 6 # Number of qubits\n",
    "active_qubits = 6 # Active qubits\n",
    "# active_qubits = list(range(active_qubits))\n",
    "num_wires = 6 # Number of wires\n",
    "num_wires_draw = 2 # Number of wires (DRAWINGS)\n",
    "# num_wires_test = 4 # Number of wires (TEST)\n",
    "\n",
    "## QUANTUM DEVICE:\n",
    "# device = qml.device(\"default.mixed\", wires=num_wires)\n",
    "device = qml.device(\"default.qubit\", wires=num_wires) # Six-qubit device"
   ]
  },
  {
   "cell_type": "code",
   "execution_count": 4,
   "metadata": {},
   "outputs": [
    {
     "name": "stdout",
     "output_type": "stream",
     "text": [
      "=============== FUNCTIONALITY CHECK (DATA) ===============\n",
      "\n",
      "============== (1) SHAPES AND TYPES ==============\n",
      "• x_train type:  <class 'jaxlib.xla_extension.ArrayImpl'>  | shape:  (2, 64)\n",
      "• y_train type:  <class 'jaxlib.xla_extension.ArrayImpl'>  | shape:  (2,)\n",
      "• x_test type:  <class 'jaxlib.xla_extension.ArrayImpl'>  | shape:  (2, 64)\n",
      "• y_test type:  <class 'jaxlib.xla_extension.ArrayImpl'>  | shape:  (2,)\n",
      "\n",
      "========== (2) NORMALIZATION ==========\n",
      "• x_train first row norm:  1.0\n",
      "• x_test first row norm:  1.0\n",
      "\n",
      "========== (3) LABEL UNIQUENESS ==========\n",
      "• Unique labels -> y_train:  [1]\n",
      "• Unique labels -> y_test:  [0 1]\n"
     ]
    }
   ],
   "source": [
    "# ********************************************\n",
    "#          LOADING THE MNIST DATASET\n",
    "# ********************************************\n",
    "\n",
    "## DEFINE VARIABLES (DATA):\n",
    "num_train = 2 # Binary classification\n",
    "num_test = 2\n",
    "\n",
    "# Call static method of [LoadDataQC] to load data (digits):\n",
    "x_train, y_train, x_test, y_test = LoadDataQC.load_digits_data(num_train, num_test, rng)\n",
    "\n",
    "##           *** FUNCTIONALITY CHECK PRINT STATEMENTS (DATA) ***\n",
    "# -------------------------------------------------------------------------\n",
    "print(f\"{'='*15} FUNCTIONALITY CHECK (DATA) {'='*15}\")\n",
    "\n",
    "# Shapes and Types:\n",
    "print(f\"\\n{'='*14} (1) SHAPES AND TYPES {'='*14}\")\n",
    "print(f\"• x_train type:  {type(x_train)}  | shape:  {x_train.shape}\")\n",
    "print(f\"• y_train type:  {type(y_train)}  | shape:  {y_train.shape}\")\n",
    "print(f\"• x_test type:  {type(x_test)}  | shape:  {x_test.shape}\")\n",
    "print(f\"• y_test type:  {type(y_test)}  | shape:  {y_test.shape}\")\n",
    "\n",
    "# Normalization:\n",
    "print(f\"\\n{'='*10} (2) NORMALIZATION {'='*10}\")\n",
    "print(f\"• x_train first row norm:  {np.linalg.norm(x_train[0])}\")\n",
    "print(f\"• x_test first row norm:  {np.linalg.norm(x_test[0])}\")\n",
    "\n",
    "# Label Uniqueness:\n",
    "print(f\"\\n{'='*10} (3) LABEL UNIQUENESS {'='*10}\")\n",
    "print(f\"• Unique labels -> y_train:  {np.unique(y_train)}\")\n",
    "print(f\"• Unique labels -> y_test:  {np.unique(y_test)}\")\n",
    "# -------------------------------------------------------------------------"
   ]
  },
  {
   "cell_type": "code",
   "execution_count": 5,
   "metadata": {},
   "outputs": [
    {
     "data": {
      "image/png": "[encoded data removed]",
      "text/plain": [
       "<Figure size 300x100 with 12 Axes>"
      ]
     },
     "metadata": {},
     "output_type": "display_data"
    }
   ],
   "source": [
    "# ********************************************\n",
    "#        VISUALIZING THE MNIST DATASET\n",
    "# ********************************************\n",
    "\n",
    "## DRAW MNIST IMAGE:\n",
    "LoadDataQC.draw_mnist_data()"
   ]
  },
  {
   "cell_type": "markdown",
   "metadata": {},
   "source": [
    "<span style=\"font-family: 'Computer Modern'; font-weight: bold; font-size: 24pt;\">CONSTRUCTING QUANTUM CIRCUIT</span>"
   ]
  },
  {
   "cell_type": "code",
   "execution_count": 6,
   "metadata": {},
   "outputs": [
    {
     "ename": "TypeError",
     "evalue": "QuantumMathOps.b_mat() missing 1 required positional argument: 'n'",
     "output_type": "error",
     "traceback": [
      "\u001b[0;31m---------------------------------------------------------------------------\u001b[0m",
      "\u001b[0;31mTypeError\u001b[0m                                 Traceback (most recent call last)",
      "\u001b[1;32m/Users/seanchisholm/VSCode_LPPC/qcnn-lppc/QCNN_package.ipynb Cell 9\u001b[0m line \u001b[0;36m1\n\u001b[1;32m     <a href='vscode-notebook-cell:/Users/seanchisholm/VSCode_LPPC/qcnn-lppc/QCNN_package.ipynb#X11sZmlsZQ%3D%3D?line=15'>16</a>\u001b[0m features \u001b[39m=\u001b[39m np\u001b[39m.\u001b[39mrandom\u001b[39m.\u001b[39mrand(\u001b[39m2\u001b[39m \u001b[39m*\u001b[39m\u001b[39m*\u001b[39m num_wires)\n\u001b[1;32m     <a href='vscode-notebook-cell:/Users/seanchisholm/VSCode_LPPC/qcnn-lppc/QCNN_package.ipynb#X11sZmlsZQ%3D%3D?line=17'>18</a>\u001b[0m \u001b[39m## DRAW CIRCUIT:\u001b[39;00m\n\u001b[0;32m---> <a href='vscode-notebook-cell:/Users/seanchisholm/VSCode_LPPC/qcnn-lppc/QCNN_package.ipynb#X11sZmlsZQ%3D%3D?line=18'>19</a>\u001b[0m fig, ax \u001b[39m=\u001b[39m qml\u001b[39m.\u001b[39;49mdraw_mpl(layers_obj\u001b[39m.\u001b[39;49mconv_net)(\n\u001b[1;32m     <a href='vscode-notebook-cell:/Users/seanchisholm/VSCode_LPPC/qcnn-lppc/QCNN_package.ipynb#X11sZmlsZQ%3D%3D?line=19'>20</a>\u001b[0m layers_obj, weights, last_layer_weights, features\n\u001b[1;32m     <a href='vscode-notebook-cell:/Users/seanchisholm/VSCode_LPPC/qcnn-lppc/QCNN_package.ipynb#X11sZmlsZQ%3D%3D?line=20'>21</a>\u001b[0m )\n\u001b[1;32m     <a href='vscode-notebook-cell:/Users/seanchisholm/VSCode_LPPC/qcnn-lppc/QCNN_package.ipynb#X11sZmlsZQ%3D%3D?line=22'>23</a>\u001b[0m plt\u001b[39m.\u001b[39mshow()\n",
      "File \u001b[0;32m~/VSCode_LPPC/qcnn-lppc/.conda/lib/python3.11/site-packages/pennylane/drawer/draw.py:747\u001b[0m, in \u001b[0;36m_draw_mpl_qnode.<locals>.wrapper\u001b[0;34m(*args, **kwargs_qnode)\u001b[0m\n\u001b[1;32m    745\u001b[0m \u001b[39m@wraps\u001b[39m(qnode)\n\u001b[1;32m    746\u001b[0m \u001b[39mdef\u001b[39;00m \u001b[39mwrapper\u001b[39m(\u001b[39m*\u001b[39margs, \u001b[39m*\u001b[39m\u001b[39m*\u001b[39mkwargs_qnode):\n\u001b[0;32m--> 747\u001b[0m     tapes, _ \u001b[39m=\u001b[39m qml\u001b[39m.\u001b[39;49mworkflow\u001b[39m.\u001b[39;49mconstruct_batch(qnode, level\u001b[39m=\u001b[39;49mlevel)(\u001b[39m*\u001b[39;49margs, \u001b[39m*\u001b[39;49m\u001b[39m*\u001b[39;49mkwargs_qnode)\n\u001b[1;32m    749\u001b[0m     \u001b[39mif\u001b[39;00m \u001b[39mlen\u001b[39m(tapes) \u001b[39m>\u001b[39m \u001b[39m1\u001b[39m:\n\u001b[1;32m    750\u001b[0m         warnings\u001b[39m.\u001b[39mwarn(\n\u001b[1;32m    751\u001b[0m             \u001b[39m\"\u001b[39m\u001b[39mMultiple tapes constructed, but only displaying the first one.\u001b[39m\u001b[39m\"\u001b[39m, \u001b[39mUserWarning\u001b[39;00m\n\u001b[1;32m    752\u001b[0m         )\n",
      "File \u001b[0;32m~/VSCode_LPPC/qcnn-lppc/.conda/lib/python3.11/site-packages/pennylane/workflow/construct_batch.py:352\u001b[0m, in \u001b[0;36mconstruct_batch.<locals>.batch_constructor\u001b[0;34m(*args, **kwargs)\u001b[0m\n\u001b[1;32m    345\u001b[0m     cntxt\u001b[39m.\u001b[39mwatch(\u001b[39mlist\u001b[39m(qnode\u001b[39m.\u001b[39mqnode_weights\u001b[39m.\u001b[39mvalues()))\n\u001b[1;32m    347\u001b[0m     kwargs \u001b[39m=\u001b[39m {\n\u001b[1;32m    348\u001b[0m         \u001b[39m*\u001b[39m\u001b[39m*\u001b[39m{k: \u001b[39m1.0\u001b[39m \u001b[39m*\u001b[39m w \u001b[39mfor\u001b[39;00m k, w \u001b[39min\u001b[39;00m qnode\u001b[39m.\u001b[39mqnode_weights\u001b[39m.\u001b[39mitems()},\n\u001b[1;32m    349\u001b[0m         \u001b[39m*\u001b[39m\u001b[39m*\u001b[39mkwargs,\n\u001b[1;32m    350\u001b[0m     }\n\u001b[0;32m--> 352\u001b[0m initial_tape \u001b[39m=\u001b[39m qml\u001b[39m.\u001b[39;49mtape\u001b[39m.\u001b[39;49mmake_qscript(qnode\u001b[39m.\u001b[39;49mfunc, shots\u001b[39m=\u001b[39;49mshots)(\u001b[39m*\u001b[39;49margs, \u001b[39m*\u001b[39;49m\u001b[39m*\u001b[39;49mkwargs)\n\u001b[1;32m    353\u001b[0m params \u001b[39m=\u001b[39m initial_tape\u001b[39m.\u001b[39mget_parameters(trainable_only\u001b[39m=\u001b[39m\u001b[39mFalse\u001b[39;00m)\n\u001b[1;32m    354\u001b[0m initial_tape\u001b[39m.\u001b[39mtrainable_params \u001b[39m=\u001b[39m qml\u001b[39m.\u001b[39mmath\u001b[39m.\u001b[39mget_trainable_indices(params)\n",
      "File \u001b[0;32m~/VSCode_LPPC/qcnn-lppc/.conda/lib/python3.11/site-packages/pennylane/tape/qscript.py:1240\u001b[0m, in \u001b[0;36mmake_qscript.<locals>.wrapper\u001b[0;34m(*args, **kwargs)\u001b[0m\n\u001b[1;32m   1238\u001b[0m \u001b[39mdef\u001b[39;00m \u001b[39mwrapper\u001b[39m(\u001b[39m*\u001b[39margs, \u001b[39m*\u001b[39m\u001b[39m*\u001b[39mkwargs):\n\u001b[1;32m   1239\u001b[0m     \u001b[39mwith\u001b[39;00m AnnotatedQueue() \u001b[39mas\u001b[39;00m q:\n\u001b[0;32m-> 1240\u001b[0m         fn(\u001b[39m*\u001b[39;49margs, \u001b[39m*\u001b[39;49m\u001b[39m*\u001b[39;49mkwargs)\n\u001b[1;32m   1242\u001b[0m     \u001b[39mreturn\u001b[39;00m QuantumScript\u001b[39m.\u001b[39mfrom_queue(q, shots)\n",
      "File \u001b[0;32m~/VSCode_LPPC/qcnn-lppc/lppc_qcnn/circuit_layers.py:337\u001b[0m, in \u001b[0;36mLayersQC.conv_net\u001b[0;34m(self, weights, last_layer_weights, features)\u001b[0m\n\u001b[1;32m    335\u001b[0m \u001b[39m# adds convolutional and pooling layers\u001b[39;00m\n\u001b[1;32m    336\u001b[0m \u001b[39mfor\u001b[39;00m j \u001b[39min\u001b[39;00m \u001b[39mrange\u001b[39m(layers):\n\u001b[0;32m--> 337\u001b[0m     \u001b[39mself\u001b[39;49m\u001b[39m.\u001b[39;49mconv_and_pooling(weights[:, j], wires, skip_first_layer\u001b[39m=\u001b[39;49m(\u001b[39mnot\u001b[39;49;00m j \u001b[39m==\u001b[39;49m \u001b[39m0\u001b[39;49m))\n\u001b[1;32m    338\u001b[0m     wires \u001b[39m=\u001b[39m wires[::\u001b[39m2\u001b[39m]\n\u001b[1;32m    339\u001b[0m     qml\u001b[39m.\u001b[39mBarrier(wires\u001b[39m=\u001b[39mwires, only_visual\u001b[39m=\u001b[39m\u001b[39mTrue\u001b[39;00m)\n",
      "File \u001b[0;32m~/VSCode_LPPC/qcnn-lppc/lppc_qcnn/circuit_layers.py:294\u001b[0m, in \u001b[0;36mLayersQC.conv_and_pooling\u001b[0;34m(self, kernel_weights, n_wires, skip_first_layer)\u001b[0m\n\u001b[1;32m    292\u001b[0m     \u001b[39mself\u001b[39m\u001b[39m.\u001b[39mthree_conv_layer(kernel_weights[\u001b[39m15\u001b[39m:\u001b[39m78\u001b[39m], n_wires, barrier\u001b[39m=\u001b[39m\u001b[39mTrue\u001b[39;00m)  \n\u001b[1;32m    293\u001b[0m \u001b[39melse\u001b[39;00m: \n\u001b[0;32m--> 294\u001b[0m     \u001b[39mself\u001b[39;49m\u001b[39m.\u001b[39;49mfour_conv_layer(kernel_weights[:\u001b[39m15\u001b[39;49m], n_wires, barrier\u001b[39m=\u001b[39;49m\u001b[39mTrue\u001b[39;49;00m)\n\u001b[1;32m    295\u001b[0m     \u001b[39mself\u001b[39m\u001b[39m.\u001b[39mthree_conv_layer(kernel_weights[\u001b[39m15\u001b[39m:\u001b[39m78\u001b[39m], n_wires, barrier\u001b[39m=\u001b[39m\u001b[39mTrue\u001b[39;00m)\n\u001b[1;32m    297\u001b[0m \u001b[39m# self.convolutional_layer(kernel_weights[:15], n_wires, skip_first_layer=skip_first_layer)\u001b[39;00m\n",
      "File \u001b[0;32m~/VSCode_LPPC/qcnn-lppc/lppc_qcnn/circuit_layers.py:163\u001b[0m, in \u001b[0;36mLayersQC.four_conv_layer\u001b[0;34m(self, params, active_qubits, barrier)\u001b[0m\n\u001b[1;32m    154\u001b[0m \u001b[39mdef\u001b[39;00m \u001b[39mfour_conv_layer\u001b[39m(\u001b[39mself\u001b[39m, params, active_qubits, barrier\u001b[39m=\u001b[39m\u001b[39mTrue\u001b[39;00m):\n\u001b[1;32m    155\u001b[0m \u001b[39m    \u001b[39m\u001b[39m\"\"\"\u001b[39;00m\n\u001b[1;32m    156\u001b[0m \u001b[39m    Adds a four-qubit unitary convolutional layer to a circuit.\u001b[39;00m\n\u001b[1;32m    157\u001b[0m \n\u001b[0;32m   (...)\u001b[0m\n\u001b[1;32m    161\u001b[0m \u001b[39m        -> barrier (bool): Whether to add a barrier after the operations.\u001b[39;00m\n\u001b[1;32m    162\u001b[0m \u001b[39m    \"\"\"\u001b[39;00m\n\u001b[0;32m--> 163\u001b[0m     conv_operators \u001b[39m=\u001b[39m \u001b[39mself\u001b[39;49m\u001b[39m.\u001b[39;49mqmo\u001b[39m.\u001b[39;49mgenerate_gell_mann(\u001b[39mself\u001b[39;49m\u001b[39m.\u001b[39;49mqmo, \u001b[39m4\u001b[39;49m)  \u001b[39m# 2 qubit gell mann matricies\u001b[39;00m\n\u001b[1;32m    164\u001b[0m     u_conv \u001b[39m=\u001b[39m \u001b[39mself\u001b[39m\u001b[39m.\u001b[39mqmo\u001b[39m.\u001b[39mget_conv_op(\u001b[39mself\u001b[39m\u001b[39m.\u001b[39mqmo, conv_operators, params)  \n\u001b[1;32m    166\u001b[0m     start_index \u001b[39m=\u001b[39m \u001b[39m0\u001b[39m \n",
      "File \u001b[0;32m~/VSCode_LPPC/qcnn-lppc/lppc_qcnn/qc_operators.py:115\u001b[0m, in \u001b[0;36mQuantumMathOps.generate_gell_mann\u001b[0;34m(self, order)\u001b[0m\n\u001b[1;32m    113\u001b[0m n \u001b[39m=\u001b[39m k \u001b[39m+\u001b[39m \u001b[39m1\u001b[39m\n\u001b[1;32m    114\u001b[0m coeff \u001b[39m=\u001b[39m np\u001b[39m.\u001b[39msqrt(\u001b[39m2\u001b[39m \u001b[39m/\u001b[39m (n \u001b[39m*\u001b[39m (n \u001b[39m+\u001b[39m \u001b[39m1\u001b[39m)))\n\u001b[0;32m--> 115\u001b[0m sum_diag \u001b[39m=\u001b[39m \u001b[39mself\u001b[39;49m\u001b[39m.\u001b[39;49mb_mat(\u001b[39m0\u001b[39;49m, \u001b[39m0\u001b[39;49m, order)\n\u001b[1;32m    116\u001b[0m \u001b[39mfor\u001b[39;00m i \u001b[39min\u001b[39;00m \u001b[39mrange\u001b[39m(\u001b[39m1\u001b[39m, k \u001b[39m+\u001b[39m \u001b[39m1\u001b[39m):\n\u001b[1;32m    117\u001b[0m     sum_diag \u001b[39m+\u001b[39m\u001b[39m=\u001b[39m \u001b[39mself\u001b[39m\u001b[39m.\u001b[39mb_mat(i, i, order)\n",
      "\u001b[0;31mTypeError\u001b[0m: QuantumMathOps.b_mat() missing 1 required positional argument: 'n'"
     ]
    }
   ],
   "source": [
    "# ********************************************\n",
    "#    VISUALIZING / PLOTTING QUANTUM CIRCUIT\n",
    "# ********************************************\n",
    "\n",
    "## QUANTUM CIRCUIT AND LAYERS CLASS:\n",
    "from lppc_qcnn.circuit_layers import LayersQC # <--- INSTANCE METHOD (SELF)\n",
    "# Define Instance of LayersQC:\n",
    "layers_obj = LayersQC()\n",
    "\n",
    "## DEFINE SAMPLE WEIGHTS / FEATURES:\n",
    "# (Note: Adjust second dimension as needed)\n",
    "weights = np.random.rand(81, 2) # <--- SHAPE ~ [(num_wires // 2) * (3 ** 3)]\n",
    "# weights = np.random.rand(num_wires, 2)\n",
    "last_layer_weights = np.random.rand(4 ** 2 - 1)\n",
    "# last_layer_weights = np.random.rand(4 ** (num_wires // 2) - 1)\n",
    "features = np.random.rand(2 ** num_wires)\n",
    "\n",
    "## DRAW CIRCUIT:\n",
    "fig, ax = qml.draw_mpl(layers_obj.conv_net)(\n",
    "layers_obj, weights, last_layer_weights, features\n",
    ")\n",
    "\n",
    "plt.show()"
   ]
  },
  {
   "cell_type": "code",
   "execution_count": null,
   "metadata": {},
   "outputs": [],
   "source": [
    "# ********************************************\n",
    "#           TRAINING QCNN / RESULTS\n",
    "# ********************************************\n",
    "\n",
    "## TRAINING QCNN CLASS:\n",
    "from lppc_qcnn.circuit_layers import TrainQC # TrainQC() <--- INSTANCE METHOD (SELF)\n",
    "# Define Instance of TrainQC:\n",
    "# train_obj = TrainQC\n",
    "train_obj = TrainQC()\n",
    "\n",
    "## DEFINE TRAIN PARAMETERS:\n",
    "n_test = 2\n",
    "n_train = 2\n",
    "n_epochs = 100\n",
    "n_reps = 10\n",
    "\n",
    "# Run training for multiple sizes and aggregate results:\n",
    "results_df = train_obj.compute_aggregated_results(train_obj, n_train, n_test)\n",
    "## ALTERNATES:\n",
    "# results_df = train_obj.compute_aggregated_results(n_train, n_test)\n",
    "# results_df = train_obj.compute_aggregated_results(n_train=n_train, n_test=n_test)"
   ]
  },
  {
   "cell_type": "code",
   "execution_count": null,
   "metadata": {},
   "outputs": [],
   "source": [
    "# ********************************************\n",
    "#     PLOTTING AGGREGATED TRAINING RESULTS\n",
    "# ********************************************\n",
    "\n",
    "## DEFINE TRAIN PARAMETERS (ALSO ABOVE):\n",
    "# n_test = 2\n",
    "n_train = 2\n",
    "n_epochs = 100\n",
    "steps = 100\n",
    "# train_obj = TrainQC() (RECALL)\n",
    "\n",
    "# Plot aggregated training results:\n",
    "train_obj.plot_aggregated_results(train_obj, results_df, n_train, steps=n_epochs, \n",
    "                                  title_loss='Train and Test Losses', \n",
    "                                  title_accuracy='Train and Test Accuracies', \n",
    "                                  markevery=10)\n",
    "## ALTERNATES:\n",
    "# train_obj.plot_aggregated_results(results_df, n_train, steps, \n",
    "#                                   title_loss='Train and Test Losses', \n",
    "#                                   title_accuracy='Train and Test Accuracies', \n",
    "#                                   markevery=10) # (NO SELF)\n",
    "# train_obj.plot_aggregated_results(results_df, n_train=n_train, steps=steps, \n",
    "#                                   title_loss='Train and Test Losses', \n",
    "#                                   title_accuracy='Train and Test Accuracies', \n",
    "#                                   markevery=10)"
   ]
  },
  {
   "cell_type": "markdown",
   "metadata": {},
   "source": [
    "***"
   ]
  },
  {
   "cell_type": "markdown",
   "metadata": {},
   "source": [
    "<span style=\"font-family: 'Computer Modern'; font-weight: bold; font-size: 24pt;\">CODE TESTING / VALIDATION</span>"
   ]
  },
  {
   "cell_type": "code",
   "execution_count": null,
   "metadata": {},
   "outputs": [],
   "source": [
    "# a = x_train[0]\n",
    "\n",
    "# **************************************************************************************************\n",
    "\n",
    "# print(type(a))\n",
    "\n",
    "# **************************************************************************************************\n",
    "\n",
    "# full_array = jnp.array(\n",
    "#         [\n",
    "#             [\n",
    "#                 [0,0,0],\n",
    "#                 [2,2,2],\n",
    "#                 [0,0,0],\n",
    "#                 [0,0,0]\n",
    "#             ],\n",
    "#             [\n",
    "#                 [1,1,1],\n",
    "#                 [0,0,0],\n",
    "#                 [0,0,0],\n",
    "#                 [0,0,0]\n",
    "#             ],\n",
    "#             [\n",
    "#                 [1,1,1],\n",
    "#                 [0,0,0],\n",
    "#                 [0,0,0],\n",
    "#                 [0,0,0]\n",
    "#             ]\n",
    "#         ]\n",
    "# )"
   ]
  },
  {
   "cell_type": "markdown",
   "metadata": {},
   "source": [
    "***"
   ]
  },
  {
   "cell_type": "code",
   "execution_count": null,
   "metadata": {},
   "outputs": [],
   "source": []
  }
 ],
 "metadata": {
  "kernelspec": {
   "display_name": "Python 3",
   "language": "python",
   "name": "python3"
  },
  "language_info": {
   "codemirror_mode": {
    "name": "ipython",
    "version": 3
   },
   "file_extension": ".py",
   "mimetype": "text/x-python",
   "name": "python",
   "nbconvert_exporter": "python",
   "pygments_lexer": "ipython3",
   "version": "3.11.9"
  }
 },
 "nbformat": 4,
 "nbformat_minor": 2
}
